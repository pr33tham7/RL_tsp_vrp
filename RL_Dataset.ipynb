{
  "nbformat": 4,
  "nbformat_minor": 0,
  "metadata": {
    "colab": {
      "name": "RL_Dataset.ipynb",
      "provenance": [],
      "include_colab_link": true
    },
    "kernelspec": {
      "name": "python3",
      "display_name": "Python 3"
    },
    "language_info": {
      "name": "python"
    }
  },
  "cells": [
    {
      "cell_type": "markdown",
      "metadata": {
        "id": "view-in-github",
        "colab_type": "text"
      },
      "source": [
        "<a href=\"https://colab.research.google.com/github/pr33tham7/RL_tsp_vrp/blob/main/RL_Dataset.ipynb\" target=\"_parent\"><img src=\"https://colab.research.google.com/assets/colab-badge.svg\" alt=\"Open In Colab\"/></a>"
      ]
    },
    {
      "cell_type": "code",
      "source": [
        "!git clone https://github.com/pr33tham7/RL_tsp_vrp"
      ],
      "metadata": {
        "id": "hCNS5DGX5Rjf",
        "outputId": "b1194993-0e31-4d61-db5f-8c527e0d6573",
        "colab": {
          "base_uri": "https://localhost:8080/"
        }
      },
      "execution_count": null,
      "outputs": [
        {
          "output_type": "stream",
          "name": "stdout",
          "text": [
            "Cloning into 'RL_tsp_vrp'...\n",
            "remote: Enumerating objects: 44, done.\u001b[K\n",
            "remote: Counting objects: 100% (44/44), done.\u001b[K\n",
            "remote: Compressing objects: 100% (43/43), done.\u001b[K\n",
            "remote: Total 44 (delta 7), reused 31 (delta 0), pack-reused 0\u001b[K\n",
            "Unpacking objects: 100% (44/44), done.\n"
          ]
        }
      ]
    },
    {
      "cell_type": "code",
      "source": [
        "import os\n",
        "import time\n",
        "import argparse\n",
        "import datetime\n",
        "import numpy as np\n",
        "import torch\n",
        "import torch.nn as nn\n",
        "import torch.nn.functional as F\n",
        "import torch.optim as optim\n",
        "from torch.utils.data import DataLoader\n",
        "import os\n",
        "from google.colab import files\n",
        "\n",
        "from RL_tsp_vrp import *\n",
        "from RL_tsp_vrp.model import DRL4TSP, Encoder\n",
        "from RL_tsp_vrp.tasks import tsp\n",
        "from RL_tsp_vrp.tasks.tsp import TSPDataset\n",
        "from RL_tsp_vrp.tasks import vrp\n",
        "from RL_tsp_vrp.tasks.vrp import VehicleRoutingDataset"
      ],
      "metadata": {
        "id": "x7axLBjp5RhI"
      },
      "execution_count": null,
      "outputs": []
    },
    {
      "cell_type": "code",
      "source": [
        "# Parameters \n",
        "num_nodes = 20\n",
        "train_size = 100\n",
        "seed = 12345"
      ],
      "metadata": {
        "id": "PkPu1uGl5Rez"
      },
      "execution_count": null,
      "outputs": []
    },
    {
      "cell_type": "code",
      "source": [
        "train_data = TSPDataset(num_nodes, train_size, seed)"
      ],
      "metadata": {
        "id": "dtENYak05Rce"
      },
      "execution_count": null,
      "outputs": []
    },
    {
      "cell_type": "code",
      "source": [
        "train_data.dataset[0]"
      ],
      "metadata": {
        "id": "yLls35lY596w",
        "outputId": "6a8bae7e-3aee-4cd8-b62b-61f5ead02164",
        "colab": {
          "base_uri": "https://localhost:8080/"
        }
      },
      "execution_count": null,
      "outputs": [
        {
          "output_type": "execute_result",
          "data": {
            "text/plain": [
              "tensor([[0.9817, 0.8796, 0.9921, 0.4611, 0.0832, 0.1784, 0.3674, 0.5676, 0.3376,\n",
              "         0.2119, 0.4594, 0.8154, 0.9157, 0.2531, 0.2133, 0.4770, 0.7201, 0.7238,\n",
              "         0.3139, 0.6732],\n",
              "        [0.4150, 0.4400, 0.0945, 0.8582, 0.1474, 0.6246, 0.2498, 0.0785, 0.4681,\n",
              "         0.6659, 0.0413, 0.5361, 0.3120, 0.4288, 0.2770, 0.4377, 0.9498, 0.0193,\n",
              "         0.2634, 0.9249]])"
            ]
          },
          "metadata": {},
          "execution_count": 5
        }
      ]
    },
    {
      "cell_type": "code",
      "source": [
        "train_data.size"
      ],
      "metadata": {
        "id": "ILFLK6WU67Uy",
        "outputId": "9598b3e5-d5d3-4193-e8e0-1e9414ae1124",
        "colab": {
          "base_uri": "https://localhost:8080/"
        }
      },
      "execution_count": null,
      "outputs": [
        {
          "output_type": "execute_result",
          "data": {
            "text/plain": [
              "100"
            ]
          },
          "metadata": {},
          "execution_count": 6
        }
      ]
    },
    {
      "cell_type": "code",
      "source": [
        "# Create data folder\n",
        "path = '/content/data'\n",
        "if not os.path.exists(path):\n",
        "    os.makedirs(path)"
      ],
      "metadata": {
        "id": "kdHnZ-65-QBC"
      },
      "execution_count": null,
      "outputs": []
    },
    {
      "cell_type": "code",
      "source": [
        "count = 0\n",
        "for sample in train_data.dataset:\n",
        "\n",
        "  data_file = []\n",
        "  count += 1\n",
        "  name = \"NAME : E-n\"+str(num_nodes)+\"-trip\"+str(count)\n",
        "  comment = \"COMMENT : None\"\n",
        "  type_file = \"TYPE : CVRP\"\n",
        "  best_known = \"BEST_KNOWN: None\"\n",
        "  dim = \"DIMENSION : \"+str(num_nodes)\n",
        "  edge = \"EDGE_WEIGHT_TYPE : EUC_2D\"\n",
        "  capacity = \"CAPACITY : 1\"\n",
        "  nodes_coord = \"NODE_COORD_SECTION\"\n",
        "\n",
        "  data_file.append(name)\n",
        "  data_file.append(comment)\n",
        "  data_file.append(type_file)\n",
        "  data_file.append(best_known)\n",
        "  data_file.append(dim)\n",
        "  data_file.append(edge)\n",
        "  data_file.append(capacity)\n",
        "  data_file.append(nodes_coord)\n",
        "\n",
        "  for j in range(num_nodes):\n",
        "    x = sample[0][j].item()\n",
        "    y = sample[1][j].item()\n",
        "    #print(f\"{j} {x: .4f} {y: .4f}\")\n",
        "    # Amplify by 100\n",
        "    data_file.append(str(j+1)+\" \"+str(round(x*100,3))+\" \"+str(round(y*100,3)))\n",
        "  demand = \"DEMAND_SECTION\"\n",
        "  data_file.append(demand)\n",
        "\n",
        "  for j in range(num_nodes):\n",
        "    #print(f\"{j} 1\")\n",
        "    data_file.append(str(j+1)+\" 0\")\n",
        "\n",
        "  data_file.append(\"DEPOT_SECTION\")\n",
        "  data_file.append(\"1\")\n",
        "  data_file.append(\"-1\")\n",
        "  data_file.append(\"EOF\")\n",
        "\n",
        "  with open('/content/data/data_file'+str(count)+'.vrp', 'w') as f:\n",
        "    for line in data_file:\n",
        "        f.write(line)\n",
        "        f.write('\\n')"
      ],
      "metadata": {
        "id": "PmnbGxsH4HpT"
      },
      "execution_count": null,
      "outputs": []
    },
    {
      "cell_type": "code",
      "source": [
        "# Compress the folder in zip\n",
        "!zip -r /content/data.zip /content/data --quiet"
      ],
      "metadata": {
        "id": "A3yRxS_37eum"
      },
      "execution_count": null,
      "outputs": []
    },
    {
      "cell_type": "code",
      "source": [
        "# Download the zip folder\n",
        "files.download(\"/content/data.zip\")"
      ],
      "metadata": {
        "id": "DJawhI4j-7Ta",
        "outputId": "aa5a3c3b-2486-4c9b-aa93-01eba8777a52",
        "colab": {
          "base_uri": "https://localhost:8080/",
          "height": 17
        }
      },
      "execution_count": null,
      "outputs": [
        {
          "output_type": "display_data",
          "data": {
            "text/plain": [
              "<IPython.core.display.Javascript object>"
            ],
            "application/javascript": [
              "\n",
              "    async function download(id, filename, size) {\n",
              "      if (!google.colab.kernel.accessAllowed) {\n",
              "        return;\n",
              "      }\n",
              "      const div = document.createElement('div');\n",
              "      const label = document.createElement('label');\n",
              "      label.textContent = `Downloading \"${filename}\": `;\n",
              "      div.appendChild(label);\n",
              "      const progress = document.createElement('progress');\n",
              "      progress.max = size;\n",
              "      div.appendChild(progress);\n",
              "      document.body.appendChild(div);\n",
              "\n",
              "      const buffers = [];\n",
              "      let downloaded = 0;\n",
              "\n",
              "      const channel = await google.colab.kernel.comms.open(id);\n",
              "      // Send a message to notify the kernel that we're ready.\n",
              "      channel.send({})\n",
              "\n",
              "      for await (const message of channel.messages) {\n",
              "        // Send a message to notify the kernel that we're ready.\n",
              "        channel.send({})\n",
              "        if (message.buffers) {\n",
              "          for (const buffer of message.buffers) {\n",
              "            buffers.push(buffer);\n",
              "            downloaded += buffer.byteLength;\n",
              "            progress.value = downloaded;\n",
              "          }\n",
              "        }\n",
              "      }\n",
              "      const blob = new Blob(buffers, {type: 'application/binary'});\n",
              "      const a = document.createElement('a');\n",
              "      a.href = window.URL.createObjectURL(blob);\n",
              "      a.download = filename;\n",
              "      div.appendChild(a);\n",
              "      a.click();\n",
              "      div.remove();\n",
              "    }\n",
              "  "
            ]
          },
          "metadata": {}
        },
        {
          "output_type": "display_data",
          "data": {
            "text/plain": [
              "<IPython.core.display.Javascript object>"
            ],
            "application/javascript": [
              "download(\"download_ff1b68a2-ee91-413b-a033-a77b712a85ac\", \"data.zip\", 55407)"
            ]
          },
          "metadata": {}
        }
      ]
    }
  ]
}